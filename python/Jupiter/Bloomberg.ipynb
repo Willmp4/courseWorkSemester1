{
 "cells": [
  {
   "cell_type": "code",
   "execution_count": 2,
   "metadata": {},
   "outputs": [],
   "source": [
    "def num_ways_bottom_up(n):\n",
    "    nums = [None] * (n+1)\n",
    "    nums[0] = 1 \n",
    "    nums[1] = 1\n",
    "    for i in range(2,n+1):\n",
    "        nums[i] = nums[i-1] + nums[i-2]\n",
    "    return nums"
   ]
  },
  {
   "cell_type": "code",
   "execution_count": 3,
   "metadata": {},
   "outputs": [
    {
     "data": {
      "text/plain": [
       "[1, 1, 2, 3, 5, 8, 13, 21, 34, 55, 89]"
      ]
     },
     "execution_count": 3,
     "metadata": {},
     "output_type": "execute_result"
    }
   ],
   "source": [
    "num_ways_bottom_up(10)"
   ]
  },
  {
   "cell_type": "code",
   "execution_count": 2,
   "metadata": {
    "scrolled": true
   },
   "outputs": [
    {
     "name": "stdout",
     "output_type": "stream",
     "text": [
      "Enter a digit: 12\n",
      "0\n",
      "1\n",
      "1\n",
      "2\n",
      "3\n",
      "5\n",
      "8\n",
      "13\n",
      "21\n",
      "34\n",
      "55\n",
      "89\n",
      "144\n"
     ]
    }
   ],
   "source": [
    "def num_ways(n):\n",
    "    if n <= 1:\n",
    "        return n \n",
    "    else:\n",
    "        return num_ways(n-1) + num_ways(n-2)\n",
    "\n",
    "nterms = int(input(\"Enter a digit: \"))\n",
    "\n",
    "if nterms <=0:\n",
    "    print(\"please enter a postive integer.\")\n",
    "else:\n",
    "    for i in range(nterms+1):\n",
    "        print(num_ways(i))"
   ]
  },
  {
   "cell_type": "code",
   "execution_count": null,
   "metadata": {},
   "outputs": [],
   "source": []
  },
  {
   "cell_type": "code",
   "execution_count": null,
   "metadata": {},
   "outputs": [],
   "source": [
    "def num_ways_X_bottom_up(n,x):\n",
    "\n",
    "if n==0:\n",
    "    return 1\n",
    "nums = [None] * (n+1)\n",
    "#make a empty list the size of n\n",
    "nums[0] = 1 \n",
    "#set fist index to 1\n",
    "for i in range(1,n+1):\n",
    "    total = 0 \n",
    "    for  j in x:\n",
    "        if i - j >=0:\n",
    "            total += nums[i-j]\n",
    "    nums[i] = total\n",
    "\n",
    "return nums[n] "
   ]
  },
  {
   "cell_type": "code",
   "execution_count": 4,
   "metadata": {},
   "outputs": [
    {
     "name": "stdout",
     "output_type": "stream",
     "text": [
      "0\n",
      "0\n",
      "0\n",
      "0\n",
      "0\n",
      "0\n",
      "1\n"
     ]
    },
    {
     "data": {
      "text/plain": [
       "2"
      ]
     },
     "execution_count": 4,
     "metadata": {},
     "output_type": "execute_result"
    }
   ],
   "source": [
    "num_ways_X_bottom_up(3,{1,3,5})"
   ]
  },
  {
   "cell_type": "code",
   "execution_count": null,
   "metadata": {},
   "outputs": [],
   "source": [
    "\"\"\"num_ways(n) = \n",
    "num_ways(n-1) + num_ways(n-3) + nw(n-5)\"\"\"\n",
    "\"\"\"num_ways(n) = \n",
    "num_ways(n-x[0]) + num_ways(n-x[1]) + nw(n-x[3])\"\"\"\n"
   ]
  }
 ],
 "metadata": {
  "kernelspec": {
   "display_name": "Python 3",
   "language": "python",
   "name": "python3"
  },
  "language_info": {
   "codemirror_mode": {
    "name": "ipython",
    "version": 3
   },
   "file_extension": ".py",
   "mimetype": "text/x-python",
   "name": "python",
   "nbconvert_exporter": "python",
   "pygments_lexer": "ipython3",
   "version": "3.7.4"
  }
 },
 "nbformat": 4,
 "nbformat_minor": 2
}
