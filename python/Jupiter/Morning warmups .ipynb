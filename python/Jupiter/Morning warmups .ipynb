{
 "cells": [
  {
   "cell_type": "code",
   "execution_count": 39,
   "metadata": {},
   "outputs": [],
   "source": [
    "\"\"\"\n",
    "Given an array of integers nums and an integer target, return indices of the two numbers such that they add up to target.\n",
    "\n",
    "You may assume that each input would have exactly one solution, and you may not use the same element twice.\n",
    "\n",
    "You can return the answer in any order.\"\"\"\n",
    "\n",
    "def two_sums(nums, target):\n",
    "    for i in range(len(nums)):\n",
    "        for j in range(i+1,len(nums)):\n",
    "            if nums[i] + nums[j] == target:\n",
    "                return i,j\n",
    "            \n",
    "def two_sums_2(nums, target):\n",
    "    dic = {}\n",
    "    \n",
    "    #init dic\n",
    "    for i in range(len(nums)):\n",
    "        #iterate through nums\n",
    "        secondNum = target - nums[i]\n",
    "        #sN = 9 - 4\n",
    "        \n",
    "        if (secondNum in dic.keys()):\n",
    "            secondIndex = nums.index(secondNum)\n",
    "            print(secondNum)\n",
    "            if i != secondIndex:\n",
    "                return sorted([i,secondIndex])\n",
    "            \n",
    "        dic.update({nums[i]: i})\n",
    "        print(dic)\n",
    "            \n",
    "        \n",
    "    "
   ]
  },
  {
   "cell_type": "code",
   "execution_count": 40,
   "metadata": {},
   "outputs": [
    {
     "name": "stdout",
     "output_type": "stream",
     "text": [
      "{5: 0}\n",
      "{5: 0, 7: 1}\n",
      "{5: 0, 7: 1, 4: 2}\n",
      "5\n"
     ]
    },
    {
     "data": {
      "text/plain": [
       "[0, 3]"
      ]
     },
     "execution_count": 40,
     "metadata": {},
     "output_type": "execute_result"
    }
   ],
   "source": [
    "two_sums_2([5,7,4,5], 10)"
   ]
  },
  {
   "cell_type": "code",
   "execution_count": 44,
   "metadata": {},
   "outputs": [],
   "source": [
    "\"\"\"\n",
    "You are given an array of variable pairs equations and an array of real numbers values, where equations[i] = [Ai, Bi] and values[i] represent the equation Ai / Bi = values[i]. Each Ai or Bi is a string that represents a single variable.\n",
    "\n",
    "You are also given some queries, where queries[j] = [Cj, Dj] represents the jth query where you must find the answer for Cj / Dj = ?.\n",
    "\n",
    "Return the answers to all queries. If a single answer cannot be determined, return -1.0.\n",
    "\n",
    "Note: The input is always valid. You may assume that evaluating the queries will not result in division by zero and that there is no contradiction.\"\"\"\n",
    "\n",
    "\n",
    "class Solution:\n",
    "    def build_graph(self,eq,val):\n",
    "        g = defaultdict(list)\n",
    "        for e,v in zip(eq,val):\n",
    "            g[e[0]].append((e[1],v))\n",
    "            g[e[1]].append((e[0],1/v))\n",
    "        return g\n",
    "    def dfs(self,s,d,visited,g):\n",
    "        if s not in g or d not in g:\n",
    "            return -1.0\n",
    "        if s == d:\n",
    "            return 1.0\n",
    "        visited.add(s)\n",
    "        for gi in g[s]:\n",
    "            if gi[0] not in visited:\n",
    "                ans = self.dfs(gi[0],d,visited,g)\n",
    "                if ans!=-1.0:\n",
    "                    return ans*gi[1]\n",
    "        return -1.0\n",
    "    def calcEquation():\n",
    "\t# build graph\n",
    "        graph = self.build_graph(equations,values)\n",
    "        res = []\n",
    "\t# process query\n",
    "        for q in queries:\n",
    "            res.append(self.dfs(q[0],q[1],set(),graph))\n",
    "        return res"
   ]
  },
  {
   "cell_type": "code",
   "execution_count": null,
   "metadata": {},
   "outputs": [],
   "source": []
  },
  {
   "cell_type": "code",
   "execution_count": 43,
   "metadata": {},
   "outputs": [
    {
     "data": {
      "text/plain": [
       "<__main__.Solution at 0x24e52aff708>"
      ]
     },
     "execution_count": 43,
     "metadata": {},
     "output_type": "execute_result"
    }
   ],
   "source": []
  },
  {
   "cell_type": "code",
   "execution_count": 35,
   "metadata": {},
   "outputs": [],
   "source": [
    "def solution(string, ending):\n",
    "    )\n",
    "    return string[-len(ending):] == ending\n",
    "    "
   ]
  },
  {
   "cell_type": "code",
   "execution_count": 37,
   "metadata": {},
   "outputs": [
    {
     "name": "stdout",
     "output_type": "stream",
     "text": [
      "fg\n",
      "fg\n"
     ]
    },
    {
     "data": {
      "text/plain": [
       "True"
      ]
     },
     "execution_count": 37,
     "metadata": {},
     "output_type": "execute_result"
    }
   ],
   "source": [
    "solution(\"abcdefg\", \"fg\")"
   ]
  },
  {
   "cell_type": "code",
   "execution_count": 15,
   "metadata": {},
   "outputs": [],
   "source": [
    "import heapq\n",
    "\n",
    "def queue_time(customers, n):\n",
    "    heap = ([0] * n)\n",
    "    for time in customers:\n",
    "        heapq.heapreplace(heap, heap[0] + time)\n",
    "    return max(heap)"
   ]
  },
  {
   "cell_type": "code",
   "execution_count": 16,
   "metadata": {},
   "outputs": [
    {
     "data": {
      "text/plain": [
       "12"
      ]
     },
     "execution_count": 16,
     "metadata": {},
     "output_type": "execute_result"
    }
   ],
   "source": [
    "queue_time([5,3,4], 1)"
   ]
  },
  {
   "cell_type": "code",
   "execution_count": 2,
   "metadata": {},
   "outputs": [],
   "source": [
    "def tower_builder(n_floors):\n",
    "    res = []\n",
    "    temp = \"\"\n",
    "    for i in range(n_floors):\n",
    "        temp = \"\"\n",
    "        for t in range(n_floors -i -1):\n",
    "            temp += \" \"\n",
    "        print (temp)\n",
    "        for j in range(2*i+1):\n",
    "            temp += \"*\"\n",
    "        print (temp)\n",
    "        for k in range(n_floors-i-1):\n",
    "            temp +=\" \"\n",
    "        res.append(temp)\n",
    "    print (res)\n",
    "    return res"
   ]
  },
  {
   "cell_type": "code",
   "execution_count": 4,
   "metadata": {},
   "outputs": [
    {
     "name": "stdout",
     "output_type": "stream",
     "text": [
      "            \n",
      "            *\n",
      "           \n",
      "           ***\n",
      "          \n",
      "          *****\n",
      "         \n",
      "         *******\n",
      "        \n",
      "        *********\n",
      "       \n",
      "       ***********\n",
      "      \n",
      "      *************\n",
      "     \n",
      "     ***************\n",
      "    \n",
      "    *****************\n",
      "   \n",
      "   *******************\n",
      "  \n",
      "  *********************\n",
      " \n",
      " ***********************\n",
      "\n",
      "*************************\n",
      "['            *            ', '           ***           ', '          *****          ', '         *******         ', '        *********        ', '       ***********       ', '      *************      ', '     ***************     ', '    *****************    ', '   *******************   ', '  *********************  ', ' *********************** ', '*************************']\n"
     ]
    },
    {
     "data": {
      "text/plain": [
       "['            *            ',\n",
       " '           ***           ',\n",
       " '          *****          ',\n",
       " '         *******         ',\n",
       " '        *********        ',\n",
       " '       ***********       ',\n",
       " '      *************      ',\n",
       " '     ***************     ',\n",
       " '    *****************    ',\n",
       " '   *******************   ',\n",
       " '  *********************  ',\n",
       " ' *********************** ',\n",
       " '*************************']"
      ]
     },
     "execution_count": 4,
     "metadata": {},
     "output_type": "execute_result"
    }
   ],
   "source": [
    "tower_builder(13)"
   ]
  }
 ],
 "metadata": {
  "kernelspec": {
   "display_name": "Python 3",
   "language": "python",
   "name": "python3"
  },
  "language_info": {
   "codemirror_mode": {
    "name": "ipython",
    "version": 3
   },
   "file_extension": ".py",
   "mimetype": "text/x-python",
   "name": "python",
   "nbconvert_exporter": "python",
   "pygments_lexer": "ipython3",
   "version": "3.7.4"
  }
 },
 "nbformat": 4,
 "nbformat_minor": 2
}
