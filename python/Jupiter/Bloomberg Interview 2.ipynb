{
 "cells": [
  {
   "cell_type": "code",
   "execution_count": 7,
   "metadata": {},
   "outputs": [],
   "source": [
    "def reverse_words(text):\n",
    "    #New string to append to.\n",
    "    Newstr = []\n",
    "    for i in text.split(\" \"):\n",
    "    #going to iterate text and split at spaces'\n",
    "        Newstr.append(i[::-1])\n",
    "        #going to appened each element reversed to Newstr\n",
    "        \n",
    "    return Newstr\n",
    "        "
   ]
  },
  {
   "cell_type": "code",
   "execution_count": 9,
   "metadata": {},
   "outputs": [
    {
     "data": {
      "text/plain": [
       "['a', 'b', 'c', 'd']"
      ]
     },
     "execution_count": 9,
     "metadata": {},
     "output_type": "execute_result"
    }
   ],
   "source": [
    "reverse_words(\"a b c d\")"
   ]
  },
  {
   "cell_type": "code",
   "execution_count": null,
   "metadata": {},
   "outputs": [],
   "source": [
    "def reverse_words1(text):\n",
    "    return \" \".join(i[::-1] for i in text.split(\" \"))"
   ]
  },
  {
   "cell_type": "code",
   "execution_count": 21,
   "metadata": {},
   "outputs": [],
   "source": [
    "def high_and_low(numbers):\n",
    "    #given a string, Redefine numbers to be a sorted string in accending order \n",
    "    nums = sorted(numbers.spilt(), key =int)\n",
    "    #it will split at space's \n",
    "    return '{} {}'.format(nums[-1], nums[0])\n",
    "    #and will return a formated string, of two chars, as it is sorted the first and last element are the min and max."
   ]
  },
  {
   "cell_type": "code",
   "execution_count": 28,
   "metadata": {},
   "outputs": [],
   "source": [
    "def high_and_low(numbers):\n",
    "    nums = sorted(numbers.split(), key=int)\n",
    "    return '{} {}'.format(max(nums), min(nums))"
   ]
  },
  {
   "cell_type": "code",
   "execution_count": 29,
   "metadata": {},
   "outputs": [
    {
     "data": {
      "text/plain": [
       "'5 1'"
      ]
     },
     "execution_count": 29,
     "metadata": {},
     "output_type": "execute_result"
    }
   ],
   "source": [
    "high_and_low(\"1 2 3 4 5\")"
   ]
  },
  {
   "cell_type": "code",
   "execution_count": 34,
   "metadata": {},
   "outputs": [],
   "source": [
    "def high_and_lowi(numbers):\n",
    "    i = list(map(int, numbers.split(\" \")))\n",
    "    return str(max(i)) + \" \" + str(min(i))"
   ]
  },
  {
   "cell_type": "code",
   "execution_count": 35,
   "metadata": {},
   "outputs": [
    {
     "data": {
      "text/plain": [
       "'5 1'"
      ]
     },
     "execution_count": 35,
     "metadata": {},
     "output_type": "execute_result"
    }
   ],
   "source": [
    "high_and_lowi(\"1 2 3 4 5\")"
   ]
  },
  {
   "cell_type": "code",
   "execution_count": 37,
   "metadata": {},
   "outputs": [],
   "source": [
    "#game theory \n",
    "\n",
    "\"\"\"\n",
    "you are playing the following Nim Game with your friend:\n",
    "\n",
    "Initially, there is a heap of stones on the table.\n",
    "You and your friend will alternate taking turns, and you go first.\n",
    "On each turn, the person whose turn it is will remove 1 to 3 stones from the heap.\n",
    "The one who removes the last stone is the winner.\"\"\"\n",
    "\n",
    "#you always win if the number is not divisible by four. \n",
    "\n",
    "class Solution:\n",
    "    def canWinNim(self, n: int) -> bool:\n",
    "        return n % 4 != 0\n",
    "\n"
   ]
  },
  {
   "cell_type": "code",
   "execution_count": 5,
   "metadata": {},
   "outputs": [
    {
     "ename": "IndentationError",
     "evalue": "unindent does not match any outer indentation level (<tokenize>, line 35)",
     "output_type": "error",
     "traceback": [
      "\u001b[1;36m  File \u001b[1;32m\"<tokenize>\"\u001b[1;36m, line \u001b[1;32m35\u001b[0m\n\u001b[1;33m    return 'Pending'\u001b[0m\n\u001b[1;37m    ^\u001b[0m\n\u001b[1;31mIndentationError\u001b[0m\u001b[1;31m:\u001b[0m unindent does not match any outer indentation level\n"
     ]
    }
   ],
   "source": [
    "def tictactoe(moves):\n",
    "    player_a, player_b = moves[0::2], moves[1::2]\n",
    "\n",
    "        # possible wins \n",
    "    possible_wins = {0: [[0, 0], [1, 1], [2, 2]],\n",
    "             1: [[0, 0], [1, 0], [2, 0]],\n",
    "             2: [[0, 1], [1, 1], [2, 1]],\n",
    "             3: [[0, 2], [1, 2], [2, 2]],\n",
    "             4: [[0, 0], [0, 1], [0, 2]],\n",
    "             5: [[1, 0], [1, 1], [1, 2]],\n",
    "             6: [[2, 0], [2, 1], [2, 2]],\n",
    "             7: [[0, 2], [1, 1], [2, 0]]\n",
    "             }\n",
    "\n",
    "        # count player one and two correct moves\n",
    "    for possible_win in possible_wins.values():\n",
    "        count_a = 0\n",
    "        for move in player_a:\n",
    "            if move in possible_win:\n",
    "                count_a += 1\n",
    "            if count_a == 3:\n",
    "                return 'A'\n",
    "\n",
    "        count_b = 0\n",
    "    for move in player_b:\n",
    "        if move in possible_win:\n",
    "            count_b += 1\n",
    "            if count_b == 3:\n",
    "                return 'B'\n",
    "\n",
    "\n",
    "    if len(player_a) + len(player_b) == 9:\n",
    "            return 'Draw'\n",
    "\n",
    "        return 'Pending'"
   ]
  },
  {
   "cell_type": "code",
   "execution_count": 10,
   "metadata": {},
   "outputs": [],
   "source": [
    "def tictactoe1(moves):\n",
    "    \n",
    "        \n",
    "        player_a, player_b = moves[0::2], moves[1::2]\n",
    "\n",
    "        # possible wins \n",
    "        possible_wins = {0: [[0, 0], [1, 1], [2, 2]],\n",
    "             1: [[0, 0], [1, 0], [2, 0]],\n",
    "             2: [[0, 1], [1, 1], [2, 1]],\n",
    "             3: [[0, 2], [1, 2], [2, 2]],\n",
    "             4: [[0, 0], [0, 1], [0, 2]],\n",
    "             5: [[1, 0], [1, 1], [1, 2]],\n",
    "             6: [[2, 0], [2, 1], [2, 2]],\n",
    "             7: [[0, 2], [1, 1], [2, 0]]\n",
    "             }\n",
    "\n",
    "        # count player one and two correct moves\n",
    "        for possible_win in possible_wins.values():\n",
    "            count_a = 0\n",
    "            for move in player_a:\n",
    "                if move in possible_win:\n",
    "                    count_a += 1\n",
    "                if count_a == 3:\n",
    "                    return 'A'\n",
    "\n",
    "            count_b = 0\n",
    "            for move in player_b:\n",
    "                if move in possible_win:\n",
    "                    count_b += 1\n",
    "                if count_b == 3:\n",
    "                    return 'B'\n",
    "\n",
    "\n",
    "        if len(player_a) + len(player_b) == 9:\n",
    "            return 'Draw'\n",
    "\n",
    "        return 'Pending'\n"
   ]
  },
  {
   "cell_type": "code",
   "execution_count": 19,
   "metadata": {},
   "outputs": [],
   "source": [
    "    def tictactoe(moves):\n",
    "        \n",
    "        #List winner case\n",
    "        win = [\n",
    "            [(0,0),(0,1),(0,2)], [(0,0),(1,0),(2,0)],\n",
    "            [(1,0),(1,1),(1,2)], [(0,1),(1,1),(2,1)],\n",
    "            [(2,0),(2,1),(2,2)], [(0,2),(1,2),(2,2)],\n",
    "            [(0,0),(1,1),(2,2)], [(0,2),(1,1),(2,0)]\n",
    "        ]\n",
    "        \n",
    "        #Distribute\n",
    "        A = set(tuple(step) for step in moves[::2])\n",
    "\n",
    "        B = set(tuple(step) for step in moves[1::2])\n",
    "        # Check winner\n",
    "        for win_case in win:\n",
    "            if win_case[0] in A and win_case[1] in A and win_case[2] in A: return \"A\"\n",
    "            if win_case[0] in B and win_case[1] in B and win_case[2] in B: return \"B\"\n",
    "               \n",
    "        # No winner\n",
    "        if len(moves) == 9: return \"Draw\"\n",
    "        else: return \"Pending\""
   ]
  },
  {
   "cell_type": "code",
   "execution_count": 20,
   "metadata": {},
   "outputs": [
    {
     "data": {
      "text/plain": [
       "'B'"
      ]
     },
     "execution_count": 20,
     "metadata": {},
     "output_type": "execute_result"
    }
   ],
   "source": [
    "tictactoe([[0,0],[1,1],[0,1],[0,2],[1,0],[2,0]])"
   ]
  },
  {
   "cell_type": "code",
   "execution_count": 21,
   "metadata": {},
   "outputs": [
    {
     "data": {
      "text/plain": [
       "'B'"
      ]
     },
     "execution_count": 21,
     "metadata": {},
     "output_type": "execute_result"
    }
   ],
   "source": [
    "tictactoe1([[0,0],[1,1],[0,1],[0,2],[1,0],[2,0]])"
   ]
  },
  {
   "cell_type": "code",
   "execution_count": 3,
   "metadata": {},
   "outputs": [],
   "source": []
  },
  {
   "cell_type": "code",
   "execution_count": 2,
   "metadata": {},
   "outputs": [
    {
     "ename": "NameError",
     "evalue": "name 'unittest' is not defined",
     "output_type": "error",
     "traceback": [
      "\u001b[1;31m---------------------------------------------------------------------------\u001b[0m",
      "\u001b[1;31mNameError\u001b[0m                                 Traceback (most recent call last)",
      "\u001b[1;32m<ipython-input-2-be4d68a4b434>\u001b[0m in \u001b[0;36m<module>\u001b[1;34m\u001b[0m\n\u001b[0;32m      1\u001b[0m \u001b[1;32mif\u001b[0m \u001b[0m__name__\u001b[0m \u001b[1;33m==\u001b[0m \u001b[1;34m'__main__'\u001b[0m\u001b[1;33m:\u001b[0m\u001b[1;33m\u001b[0m\u001b[1;33m\u001b[0m\u001b[0m\n\u001b[1;32m----> 2\u001b[1;33m     \u001b[0munittest\u001b[0m\u001b[1;33m.\u001b[0m\u001b[0mmain\u001b[0m\u001b[1;33m(\u001b[0m\u001b[0margv\u001b[0m\u001b[1;33m=\u001b[0m\u001b[1;33m[\u001b[0m\u001b[1;34m'first-arg-is-ignored'\u001b[0m\u001b[1;33m]\u001b[0m\u001b[1;33m,\u001b[0m \u001b[0mexit\u001b[0m\u001b[1;33m=\u001b[0m\u001b[1;32mFalse\u001b[0m\u001b[1;33m)\u001b[0m\u001b[1;33m\u001b[0m\u001b[1;33m\u001b[0m\u001b[0m\n\u001b[0m",
      "\u001b[1;31mNameError\u001b[0m: name 'unittest' is not defined"
     ]
    }
   ],
   "source": [
    "if __name__ == '__main__':\n",
    "    unittest.main(argv=['first-arg-is-ignored'], exit=False)"
   ]
  },
  {
   "cell_type": "code",
   "execution_count": 3,
   "metadata": {},
   "outputs": [],
   "source": [
    "def track1():\n",
    "    m = 3\n",
    "    n = 0\n",
    "    i = 1\n",
    "    j = m\n",
    "    while i != n:\n",
    "        i +=1 \n",
    "        j *=3\n",
    "    return j"
   ]
  },
  {
   "cell_type": "code",
   "execution_count": null,
   "metadata": {},
   "outputs": [],
   "source": [
    "track1()"
   ]
  },
  {
   "cell_type": "code",
   "execution_count": 1,
   "metadata": {},
   "outputs": [],
   "source": [
    "def track(n):\n",
    "    k =1\n",
    "    i = 0\n",
    "    sum_ = 0\n",
    "    while k < 2*n:\n",
    "        i += k\n",
    "        print(i,\"This is i\")\n",
    "        print(k, \"This is k\")\n",
    "        sum_ +=i\n",
    "        print(sum_,\"This is sum\")\n",
    "        k+=2\n",
    "    return sum_"
   ]
  },
  {
   "cell_type": "code",
   "execution_count": 2,
   "metadata": {},
   "outputs": [
    {
     "name": "stdout",
     "output_type": "stream",
     "text": [
      "1 This is i\n",
      "1 This is k\n",
      "1 This is sum\n",
      "4 This is i\n",
      "3 This is k\n",
      "5 This is sum\n",
      "9 This is i\n",
      "5 This is k\n",
      "14 This is sum\n",
      "16 This is i\n",
      "7 This is k\n",
      "30 This is sum\n",
      "25 This is i\n",
      "9 This is k\n",
      "55 This is sum\n",
      "36 This is i\n",
      "11 This is k\n",
      "91 This is sum\n"
     ]
    },
    {
     "data": {
      "text/plain": [
       "91"
      ]
     },
     "execution_count": 2,
     "metadata": {},
     "output_type": "execute_result"
    }
   ],
   "source": [
    "track(6)"
   ]
  },
  {
   "cell_type": "code",
   "execution_count": 17,
   "metadata": {},
   "outputs": [],
   "source": [
    "def absolute(x):\n",
    "    \n",
    "    if x < 0:\n",
    "        x = -x\n",
    "    \n",
    "    return x"
   ]
  },
  {
   "cell_type": "code",
   "execution_count": 18,
   "metadata": {},
   "outputs": [
    {
     "data": {
      "text/plain": [
       "500"
      ]
     },
     "execution_count": 18,
     "metadata": {},
     "output_type": "execute_result"
    }
   ],
   "source": [
    "absolute(-500)"
   ]
  },
  {
   "cell_type": "code",
   "execution_count": 23,
   "metadata": {},
   "outputs": [
    {
     "name": "stdout",
     "output_type": "stream",
     "text": [
      "5\n"
     ]
    }
   ],
   "source": [
    "x = -5 \n",
    "x = -x\n",
    "print(x)"
   ]
  },
  {
   "cell_type": "code",
   "execution_count": 37,
   "metadata": {},
   "outputs": [],
   "source": [
    "def idk(x):\n",
    "    sum1 = 0\n",
    "    \n",
    "    j = 1\n",
    "    for i in range(x):\n",
    "        j = i * i\n",
    "        sum1+= j\n",
    "    return sum1\n",
    "        "
   ]
  },
  {
   "cell_type": "code",
   "execution_count": 41,
   "metadata": {},
   "outputs": [
    {
     "data": {
      "text/plain": [
       "14"
      ]
     },
     "execution_count": 41,
     "metadata": {},
     "output_type": "execute_result"
    }
   ],
   "source": [
    "idk(4)"
   ]
  },
  {
   "cell_type": "code",
   "execution_count": null,
   "metadata": {},
   "outputs": [],
   "source": []
  }
 ],
 "metadata": {
  "kernelspec": {
   "display_name": "Python 3",
   "language": "python",
   "name": "python3"
  },
  "language_info": {
   "codemirror_mode": {
    "name": "ipython",
    "version": 3
   },
   "file_extension": ".py",
   "mimetype": "text/x-python",
   "name": "python",
   "nbconvert_exporter": "python",
   "pygments_lexer": "ipython3",
   "version": "3.7.4"
  }
 },
 "nbformat": 4,
 "nbformat_minor": 2
}
