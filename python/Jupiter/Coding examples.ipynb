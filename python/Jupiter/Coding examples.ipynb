{
 "cells": [
  {
   "cell_type": "code",
   "execution_count": 2,
   "metadata": {},
   "outputs": [],
   "source": [
    "def sol(N):\n",
    "    \n",
    "    count = N + 1\n",
    "    while count % 10 != 0:\n",
    "        count += 1 \n",
    "    return count"
   ]
  },
  {
   "cell_type": "code",
   "execution_count": 3,
   "metadata": {},
   "outputs": [
    {
     "data": {
      "text/plain": [
       "30"
      ]
     },
     "execution_count": 3,
     "metadata": {},
     "output_type": "execute_result"
    }
   ],
   "source": [
    "sol(27)"
   ]
  },
  {
   "cell_type": "code",
   "execution_count": 6,
   "metadata": {},
   "outputs": [],
   "source": [
    "def sol2(S):\n",
    "    #Dics only allow one key.\n",
    "    dic = {}\n",
    "    for char in S:\n",
    "        #.get() in this context will go throught each char, and if it appers more than once then return that char\n",
    "        if dic.get(char,1) != 1:\n",
    "            return char \n",
    "        else:\n",
    "            dic[char] = 0"
   ]
  },
  {
   "cell_type": "code",
   "execution_count": 7,
   "metadata": {},
   "outputs": [
    {
     "data": {
      "text/plain": [
       "'t'"
      ]
     },
     "execution_count": 7,
     "metadata": {},
     "output_type": "execute_result"
    }
   ],
   "source": [
    "sol2(\"tutorialspoint\")"
   ]
  },
  {
   "cell_type": "code",
   "execution_count": 16,
   "metadata": {},
   "outputs": [],
   "source": [
    "def find_min(A):\n",
    "    answer = A[0]\n",
    "    i = 0 \n",
    "    while i < len(A):\n",
    "        if answer > A[i]:\n",
    "            answer = A[i]\n",
    "        i +=1\n",
    "        \n",
    "    return answer"
   ]
  },
  {
   "cell_type": "code",
   "execution_count": 17,
   "metadata": {},
   "outputs": [
    {
     "data": {
      "text/plain": [
       "1"
      ]
     },
     "execution_count": 17,
     "metadata": {},
     "output_type": "execute_result"
    }
   ],
   "source": [
    "find_min([1,2,3,4,5])"
   ]
  },
  {
   "cell_type": "code",
   "execution_count": 16,
   "metadata": {},
   "outputs": [],
   "source": [
    "def duplicate_encode(word):\n",
    "    newstr =\"\"\n",
    "    word = word.lower()\n",
    "    \n",
    "    for x in word:\n",
    "        if word.count(x) == 1:\n",
    "            newstr += \"(\"\n",
    "        else:\n",
    "            newstr += \")\"\n",
    "            \n",
    "    return newstr"
   ]
  },
  {
   "cell_type": "code",
   "execution_count": 17,
   "metadata": {},
   "outputs": [
    {
     "data": {
      "text/plain": [
       "'())('"
      ]
     },
     "execution_count": 17,
     "metadata": {},
     "output_type": "execute_result"
    }
   ],
   "source": [
    "duplicate_encode(\"Buum\")"
   ]
  },
  {
   "cell_type": "code",
   "execution_count": 12,
   "metadata": {},
   "outputs": [],
   "source": [
    "def duplicate_encode1(word):\n",
    "    word = word.lower()\n",
    "    return ''.join('(' if word.count(x) == 1 else ')' for x in word)"
   ]
  },
  {
   "cell_type": "code",
   "execution_count": 13,
   "metadata": {},
   "outputs": [
    {
     "data": {
      "text/plain": [
       "'())('"
      ]
     },
     "execution_count": 13,
     "metadata": {},
     "output_type": "execute_result"
    }
   ],
   "source": [
    "duplicate_encode1(\"Buum\")"
   ]
  },
  {
   "cell_type": "code",
   "execution_count": 13,
   "metadata": {},
   "outputs": [],
   "source": [
    "x = [\"ryan\", \"Molly\", \"Mark\"]"
   ]
  },
  {
   "cell_type": "code",
   "execution_count": 14,
   "metadata": {},
   "outputs": [
    {
     "data": {
      "text/plain": [
       "3"
      ]
     },
     "execution_count": 14,
     "metadata": {},
     "output_type": "execute_result"
    }
   ],
   "source": [
    "len(x)"
   ]
  },
  {
   "cell_type": "code",
   "execution_count": 21,
   "metadata": {},
   "outputs": [],
   "source": [
    "def friends(x):\n",
    "    b = []\n",
    "    for i in x:\n",
    "        if len(i) <= 4:\n",
    "            b.append(i)\n",
    "    return b"
   ]
  },
  {
   "cell_type": "code",
   "execution_count": 22,
   "metadata": {},
   "outputs": [
    {
     "data": {
      "text/plain": [
       "['ryan', 'Mark']"
      ]
     },
     "execution_count": 22,
     "metadata": {},
     "output_type": "execute_result"
    }
   ],
   "source": [
    "friends(x)"
   ]
  },
  {
   "cell_type": "code",
   "execution_count": 2,
   "metadata": {},
   "outputs": [],
   "source": [
    "l = [1,2,3,\"1\"]"
   ]
  },
  {
   "cell_type": "code",
   "execution_count": 11,
   "metadata": {},
   "outputs": [],
   "source": [
    "def filter_list(l):\n",
    "    newl = []\n",
    "    for x in l:\n",
    "        if type(x) == int:\n",
    "            newl.append(x)\n",
    "    return newl"
   ]
  },
  {
   "cell_type": "code",
   "execution_count": 12,
   "metadata": {},
   "outputs": [
    {
     "data": {
      "text/plain": [
       "[1, 2, 3]"
      ]
     },
     "execution_count": 12,
     "metadata": {},
     "output_type": "execute_result"
    }
   ],
   "source": [
    "filter_list(l)"
   ]
  },
  {
   "cell_type": "code",
   "execution_count": 22,
   "metadata": {},
   "outputs": [],
   "source": [
    "def get_count(input_str):\n",
    "    num_vowels = 0\n",
    "    vowels = \"aeiou\"\n",
    "    for x in input_str.lower():\n",
    "        if x in vowels:\n",
    "            num_vowels += 1\n",
    "    \n",
    "    return num_vowels"
   ]
  },
  {
   "cell_type": "code",
   "execution_count": 23,
   "metadata": {},
   "outputs": [
    {
     "data": {
      "text/plain": [
       "1"
      ]
     },
     "execution_count": 23,
     "metadata": {},
     "output_type": "execute_result"
    }
   ],
   "source": [
    "get_count(\"HEy\")"
   ]
  },
  {
   "cell_type": "code",
   "execution_count": 36,
   "metadata": {},
   "outputs": [],
   "source": [
    "def solution(s):\n",
    "    c = s[0]\n",
    "    if c.isupper():    # please fix condition\n",
    "        return \"upper\"\n",
    "    elif c.islower(): # please fix condition\n",
    "        return \"lower\"\n",
    "    elif c.isnumeric():\n",
    "        return \"Digit\"\n",
    "    else:\n",
    "        return \"other\""
   ]
  },
  {
   "cell_type": "code",
   "execution_count": 38,
   "metadata": {},
   "outputs": [
    {
     "data": {
      "text/plain": [
       "'Digit'"
      ]
     },
     "execution_count": 38,
     "metadata": {},
     "output_type": "execute_result"
    }
   ],
   "source": [
    "solution(\"1\")"
   ]
  },
  {
   "cell_type": "code",
   "execution_count": 381,
   "metadata": {},
   "outputs": [],
   "source": [
    "def sol1(s):\n",
    "    #validates the format \n",
    "    if len(s) < 11 or s[3::4] != \"--\":\n",
    "        return False \n",
    "    \n",
    "\n",
    "    #only counts twice, if theres more than two dashes then return false\n",
    "    x = s.split(\"-\", 2)\n",
    "    #Check for non digits \n",
    "    for i in x:\n",
    "        for e in i:\n",
    "            if not e.isdigit():\n",
    "                return False \n",
    "                \n",
    "    \n",
    "    \n",
    "    \n",
    "    \n",
    "    \n",
    "    return True \n",
    "    \n",
    "    "
   ]
  },
  {
   "cell_type": "code",
   "execution_count": 382,
   "metadata": {},
   "outputs": [
    {
     "data": {
      "text/plain": [
       "True"
      ]
     },
     "execution_count": 382,
     "metadata": {},
     "output_type": "execute_result"
    }
   ],
   "source": [
    "sol1(\"123-456-789\")"
   ]
  },
  {
   "cell_type": "code",
   "execution_count": 202,
   "metadata": {},
   "outputs": [],
   "source": []
  },
  {
   "cell_type": "code",
   "execution_count": 386,
   "metadata": {},
   "outputs": [],
   "source": [
    "s=\"123--56-789\""
   ]
  },
  {
   "cell_type": "code",
   "execution_count": 365,
   "metadata": {},
   "outputs": [
    {
     "data": {
      "text/plain": [
       "'--'"
      ]
     },
     "execution_count": 365,
     "metadata": {},
     "output_type": "execute_result"
    }
   ],
   "source": [
    "s[3::4]"
   ]
  },
  {
   "cell_type": "code",
   "execution_count": 384,
   "metadata": {},
   "outputs": [],
   "source": [
    "def max_word_count(txt):\n",
    "    #Finds the sentence with the most words in a given text(txt)\n",
    "    dotlist = txt.split(\".\")\n",
    "    questionList = []\n",
    "    exclamList = []\n",
    "    sentenceArray = []\n",
    "    \n",
    "    for str in dotlist:\n",
    "        #Appends into the dot list   \n",
    "        questionList.extend(str.split(\"?\"))\n",
    "    print(questionList) \n",
    "\n",
    "    for str in questionList:\n",
    "        #Appends into the question list\n",
    "        exclamList.extend (str.split(\"!\"))\n",
    "    print(exclamList)\n",
    "    for str in exclamList:\n",
    "        #Appends into the exclam list\n",
    "        sentenceArray.append(str.split())\n",
    "    \n",
    "    print (sentenceArray)\n",
    "    maxWords = 0\n",
    "\n",
    "    #Counter\n",
    "    #\n",
    "    for sentence in sentenceArray:\n",
    "        if len(sentence) > maxWords:\n",
    "            \n",
    "            maxWords = len(sentence)\n",
    "\n",
    "    return (maxWords)\n",
    "\n",
    "   \n",
    "   \n",
    "        \n",
    "        \n"
   ]
  },
  {
   "cell_type": "code",
   "execution_count": 385,
   "metadata": {},
   "outputs": [
    {
     "name": "stdout",
     "output_type": "stream",
     "text": [
      "['or', ' and maybe', ' with! as well', ' welcome to the jungle', '']\n",
      "['or', ' and maybe', ' with', ' as well', ' welcome to the jungle', '']\n",
      "[['or'], ['and', 'maybe'], ['with'], ['as', 'well'], ['welcome', 'to', 'the', 'jungle'], []]\n"
     ]
    },
    {
     "data": {
      "text/plain": [
       "4"
      ]
     },
     "execution_count": 385,
     "metadata": {},
     "output_type": "execute_result"
    }
   ],
   "source": [
    "max_word_count( \"or. and maybe? with! as well. welcome to the jungle.\")"
   ]
  },
  {
   "cell_type": "code",
   "execution_count": 26,
   "metadata": {},
   "outputs": [],
   "source": [
    "s= \"bonk fool, you lied fool\""
   ]
  },
  {
   "cell_type": "code",
   "execution_count": null,
   "metadata": {},
   "outputs": [],
   "source": []
  },
  {
   "cell_type": "code",
   "execution_count": 113,
   "metadata": {},
   "outputs": [],
   "source": [
    "def wcapitalize(s):\n",
    "    #capitalize every word in the string.\n",
    "    newlist = [ ]\n",
    "    newstr = \"\"\n",
    "    for x in s.split():\n",
    "        #list for the words\n",
    "        xl = list(x)\n",
    "        xl[0] = xl[0].upper()\n",
    "        #uses index to change the word to upper case\n",
    "        newlist.append(\"\".join(xl))\n",
    "        print(xl)\n",
    "    print(newlist)\n",
    "    return \" \".join(newlist)\n"
   ]
  },
  {
   "cell_type": "code",
   "execution_count": 114,
   "metadata": {},
   "outputs": [
    {
     "name": "stdout",
     "output_type": "stream",
     "text": [
      "['B', 'o', 'n', 'k']\n",
      "['F', 'o', 'o', 'l', ',']\n",
      "['Y', 'o', 'u']\n",
      "['L', 'i', 'e', 'd']\n",
      "['F', 'o', 'o', 'l']\n",
      "['Bonk', 'Fool,', 'You', 'Lied', 'Fool']\n"
     ]
    },
    {
     "data": {
      "text/plain": [
       "'Bonk Fool, You Lied Fool'"
      ]
     },
     "execution_count": 114,
     "metadata": {},
     "output_type": "execute_result"
    }
   ],
   "source": [
    "wcapitalize(s)"
   ]
  },
  {
   "cell_type": "code",
   "execution_count": 115,
   "metadata": {},
   "outputs": [],
   "source": [
    "def wcapitalize1(s):\n",
    "    #better verssion of the one above\n",
    "    import string\n",
    "    return string.capwords(s)"
   ]
  },
  {
   "cell_type": "code",
   "execution_count": 116,
   "metadata": {},
   "outputs": [
    {
     "data": {
      "text/plain": [
       "'Bonk Fool, You Lied Fool'"
      ]
     },
     "execution_count": 116,
     "metadata": {},
     "output_type": "execute_result"
    }
   ],
   "source": [
    "wcapitalize1(s)"
   ]
  },
  {
   "cell_type": "code",
   "execution_count": 121,
   "metadata": {},
   "outputs": [],
   "source": [
    "def wcapitalize2(s):\n",
    "    return \"\".join(w.capitalize() for w in s.split())"
   ]
  },
  {
   "cell_type": "code",
   "execution_count": 122,
   "metadata": {},
   "outputs": [
    {
     "data": {
      "text/plain": [
       "'BonkFool,YouLiedFool'"
      ]
     },
     "execution_count": 122,
     "metadata": {},
     "output_type": "execute_result"
    }
   ],
   "source": [
    "wcapitalize2(s)"
   ]
  },
  {
   "cell_type": "code",
   "execution_count": 139,
   "metadata": {},
   "outputs": [],
   "source": [
    "def wcapitalize3(s):\n",
    "    return \" \".join (map(lambda x: x.capitalize(), s.split(\" \")))"
   ]
  },
  {
   "cell_type": "code",
   "execution_count": 140,
   "metadata": {},
   "outputs": [
    {
     "data": {
      "text/plain": [
       "'Bonk Fool, You Lied Fool'"
      ]
     },
     "execution_count": 140,
     "metadata": {},
     "output_type": "execute_result"
    }
   ],
   "source": [
    "wcapitalize3(s)"
   ]
  },
  {
   "cell_type": "code",
   "execution_count": 10,
   "metadata": {},
   "outputs": [],
   "source": [
    "def duplicates_str(string):\n",
    "    \n",
    "    duplicates = []\n",
    "    for char in string:\n",
    "       ## checking whether the character have a duplicate or not\n",
    "       ## str.count(char) returns the frequency of a char in the str\n",
    "           if string.count(char) > 1:\n",
    "       ## appending to the list if it's already not present\n",
    "               if char not in duplicates:\n",
    "                   duplicates.append(char)\n",
    "    print(*duplicates)"
   ]
  },
  {
   "cell_type": "code",
   "execution_count": 13,
   "metadata": {},
   "outputs": [
    {
     "name": "stdout",
     "output_type": "stream",
     "text": [
      "a\n"
     ]
    }
   ],
   "source": [
    "duplicates_str(\"asa\")"
   ]
  },
  {
   "cell_type": "code",
   "execution_count": 9,
   "metadata": {},
   "outputs": [],
   "source": [
    "#count all the chars in a string\n",
    "#example output: input(aba), a - 2, b -1\n",
    "\n",
    "def counter(s):\n",
    "    return {i: s.count(i) for i in s}"
   ]
  },
  {
   "cell_type": "code",
   "execution_count": 10,
   "metadata": {},
   "outputs": [
    {
     "data": {
      "text/plain": [
       "{'a': 2, 'b': 1}"
      ]
     },
     "execution_count": 10,
     "metadata": {},
     "output_type": "execute_result"
    }
   ],
   "source": [
    "counter(\"aba\")"
   ]
  },
  {
   "cell_type": "code",
   "execution_count": 16,
   "metadata": {},
   "outputs": [],
   "source": [
    "#return the max and min elements in an array\n",
    "def min_max(lst):\n",
    "    return list((max(lst) , min(lst)))"
   ]
  },
  {
   "cell_type": "code",
   "execution_count": 17,
   "metadata": {},
   "outputs": [
    {
     "data": {
      "text/plain": [
       "[3, 1]"
      ]
     },
     "execution_count": 17,
     "metadata": {},
     "output_type": "execute_result"
    }
   ],
   "source": [
    "min_max([1,2,3])"
   ]
  },
  {
   "cell_type": "code",
   "execution_count": 42,
   "metadata": {},
   "outputs": [],
   "source": [
    "#return a sortted list but all even numbers in orginal postion\n",
    "def sort_array(s):\n",
    "    odd = []\n",
    "    #empty list\n",
    "    for i in s:\n",
    "        if i % 2 > 0:\n",
    "            odd.append(i)\n",
    "        odd.sort()\n",
    "    \n",
    "    x = 0\n",
    "    for j in range(len(s)):\n",
    "        if s[j] % 2 == 1:\n",
    "            s[j] = odd[x]\n",
    "            x+=1\n",
    "    return s\n",
    "            \n",
    "        \n",
    "\n",
    "\n",
    "    \n",
    "            \n"
   ]
  },
  {
   "cell_type": "code",
   "execution_count": 55,
   "metadata": {},
   "outputs": [],
   "source": [
    "def sort_array(source_array):\n",
    "    odd = []\n",
    "    for i in source_array:\n",
    "        if i % 2 > 0:\n",
    "            odd.append(i)\n",
    "        odd.sort()\n",
    "    x= 0\n",
    "    \n",
    "    for j in range(len(source_array)):\n",
    "        if source_array[j] % 2 > 0:\n",
    "            source_array[j] = odd[x]\n",
    "            x +=1\n",
    "            \n",
    "    return source_array"
   ]
  },
  {
   "cell_type": "code",
   "execution_count": 56,
   "metadata": {},
   "outputs": [
    {
     "data": {
      "text/plain": [
       "(1, 3, 2)"
      ]
     },
     "execution_count": 56,
     "metadata": {},
     "output_type": "execute_result"
    }
   ],
   "source": [
    "1,3,2"
   ]
  },
  {
   "cell_type": "code",
   "execution_count": 61,
   "metadata": {},
   "outputs": [
    {
     "data": {
      "text/plain": [
       "[1, 3, 5, 2]"
      ]
     },
     "execution_count": 61,
     "metadata": {},
     "output_type": "execute_result"
    }
   ],
   "source": [
    "sort_array([5,1,3,2])"
   ]
  },
  {
   "cell_type": "code",
   "execution_count": 62,
   "metadata": {},
   "outputs": [],
   "source": [
    "\n",
    "#up to and including n, return the sum of all the  multiples of 5 and 10\n",
    "#eg. sum(5) returns 8(3+5)\n",
    "#eg sum(10) returns 33(3+5+6+9+10)\n",
    "\n",
    "def sum5(n):\n",
    "    total = 0\n",
    "    for i in range(1,n+1):\n",
    "        if i % 3 == 0 or i % 5 == 0:\n",
    "            #if i % 3 = 0 means its a multiple of 3 and the same for i % 5 = 0 for 5\n",
    "            total += i\n",
    "            #if it is a multiple of either then add it to total\n",
    "    return total\n",
    "        \n",
    "    "
   ]
  },
  {
   "cell_type": "code",
   "execution_count": 68,
   "metadata": {},
   "outputs": [
    {
     "data": {
      "text/plain": [
       "14"
      ]
     },
     "execution_count": 68,
     "metadata": {},
     "output_type": "execute_result"
    }
   ],
   "source": [
    "sum5(6)\n",
    "#3+5+6 = 14"
   ]
  },
  {
   "cell_type": "code",
   "execution_count": 33,
   "metadata": {},
   "outputs": [],
   "source": [
    "#The till has 25, 50, and 100 dollar bills. The clerk initally starts with 0 in the float. \n",
    "#The clerk wants to sell a ticket to everyone is the line, tickets are 25 dollars.\n",
    "\n",
    "def clerk(people):\n",
    "    #initalizing the bills available\n",
    "    till = {25.0: 0, 50.0: 0, 100.0:0}\n",
    "    \n",
    "    for paid in people:\n",
    "        till[paid] += 1\n",
    "        print(till)\n",
    "        change = paid -25.00\n",
    "        \n",
    "        for bill in [50,25]:\n",
    "            while (bill <=change and till[paid] > 0):\n",
    "                till[paid] -=1\n",
    "                change -= bill\n",
    "            \n",
    "    if change != 0:\n",
    "        return \"No\"\n",
    "    \n",
    "    return \"Yes\"\n",
    "        "
   ]
  },
  {
   "cell_type": "code",
   "execution_count": 34,
   "metadata": {},
   "outputs": [
    {
     "name": "stdout",
     "output_type": "stream",
     "text": [
      "{25.0: 1, 50.0: 0, 100.0: 0}\n",
      "{25.0: 2, 50.0: 0, 100.0: 0}\n",
      "{25.0: 3, 50.0: 0, 100.0: 0}\n",
      "{25.0: 4, 50.0: 0, 100.0: 0}\n",
      "{25.0: 5, 50.0: 0, 100.0: 0}\n",
      "{25.0: 5, 50.0: 0, 100.0: 1}\n"
     ]
    },
    {
     "data": {
      "text/plain": [
       "'No'"
      ]
     },
     "execution_count": 34,
     "metadata": {},
     "output_type": "execute_result"
    }
   ],
   "source": [
    "clerk([25, 25, 25,25,25, 100])"
   ]
  },
  {
   "cell_type": "code",
   "execution_count": 1,
   "metadata": {},
   "outputs": [],
   "source": [
    "dic1 = {25.0: 0, 50.0: 0, 100.0: 0}"
   ]
  },
  {
   "cell_type": "code",
   "execution_count": 2,
   "metadata": {},
   "outputs": [
    {
     "data": {
      "text/plain": [
       "0"
      ]
     },
     "execution_count": 2,
     "metadata": {},
     "output_type": "execute_result"
    }
   ],
   "source": [
    "dic1[25]"
   ]
  },
  {
   "cell_type": "code",
   "execution_count": 8,
   "metadata": {},
   "outputs": [
    {
     "name": "stdout",
     "output_type": "stream",
     "text": [
      "{25.0: 4, 50.0: 3, 100.0: 3}\n",
      "{25.0: 4, 50.0: 4, 100.0: 3}\n",
      "{25.0: 4, 50.0: 4, 100.0: 4}\n"
     ]
    }
   ],
   "source": [
    "for x in dic1:\n",
    "    dic1[x] += 1\n",
    "    print(dic1)"
   ]
  },
  {
   "cell_type": "code",
   "execution_count": 1,
   "metadata": {},
   "outputs": [],
   "source": [
    "#add up all the elements within the given array\n",
    "\n",
    "\n",
    "def find_sum(array):\n",
    "    total = 0\n",
    "    for i in array:\n",
    "        total += i \n",
    "    return total"
   ]
  },
  {
   "cell_type": "code",
   "execution_count": 2,
   "metadata": {},
   "outputs": [
    {
     "data": {
      "text/plain": [
       "6"
      ]
     },
     "execution_count": 2,
     "metadata": {},
     "output_type": "execute_result"
    }
   ],
   "source": [
    "find_sum([1,2,3])"
   ]
  },
  {
   "cell_type": "code",
   "execution_count": 16,
   "metadata": {},
   "outputs": [],
   "source": [
    "'''\n",
    "Count the number of divisors of a positive integer n.\n",
    "\n",
    "Random tests go up to n = 500000.\n",
    "\n",
    "Examples\n",
    "divisors(4)  == 3  # 1, 2, 4\n",
    "divisors(5)  == 2  # 1, 5\n",
    "divisors(12) == 6  # 1, 2, 3, 4, 6, 12\n",
    "divisors(30) == 8  # 1, 2, 3, 5, 6, 10, 15, 30\n",
    "'''\n",
    "\n",
    "def divisors(n):\n",
    "    total = 0\n",
    "    for i in range(1, n+1):\n",
    "        if n % i == 0:\n",
    "            total += 1\n",
    "            \n",
    "    return total "
   ]
  },
  {
   "cell_type": "code",
   "execution_count": 17,
   "metadata": {},
   "outputs": [
    {
     "data": {
      "text/plain": [
       "4"
      ]
     },
     "execution_count": 17,
     "metadata": {},
     "output_type": "execute_result"
    }
   ],
   "source": [
    "divisors(257534)"
   ]
  },
  {
   "cell_type": "code",
   "execution_count": 18,
   "metadata": {},
   "outputs": [],
   "source": [
    "'''Or\n",
    "For the same question^^^'''\n",
    "\n",
    "def divisors1(n):\n",
    "    return len([i for i in range(1, n+1) if n % i == 0])"
   ]
  },
  {
   "cell_type": "code",
   "execution_count": 20,
   "metadata": {},
   "outputs": [
    {
     "data": {
      "text/plain": [
       "4"
      ]
     },
     "execution_count": 20,
     "metadata": {},
     "output_type": "execute_result"
    }
   ],
   "source": [
    "divisors1(257534)"
   ]
  },
  {
   "cell_type": "code",
   "execution_count": 21,
   "metadata": {},
   "outputs": [],
   "source": [
    "'''\n",
    "Take a Number And Sum Its Digits Raised To The Consecutive Powers And \n",
    "Because this sum gives the same number.\n",
    "\n",
    "In effect: 89 = 8^1 + 9^2\n",
    "\n",
    "The next number in having this property is 135.\n",
    "\n",
    "See this property again: 135 = 1^1 + 3^2 + 5^3\n",
    "\n",
    "We need a function to collect these numbers, that may receive two integers a, b that defines the range [a, b]\n",
    "(inclusive) and outputs a list of the sorted numbers in the range that fulfills the property described above.'''\n",
    "\n",
    "def filter_func(a):\n",
    "    return sum(int(d) ** (i+1) for i, d in enumerate(str(a))) == a\n",
    "\n",
    "def sum_dig_pow(a, b):\n",
    "    return filter(filter_func, range(a, b+1))"
   ]
  },
  {
   "cell_type": "code",
   "execution_count": 27,
   "metadata": {},
   "outputs": [
    {
     "name": "stdout",
     "output_type": "stream",
     "text": [
      "f\n"
     ]
    }
   ],
   "source": [
    "print(chr(ord(\"a\") + 5))"
   ]
  },
  {
   "cell_type": "code",
   "execution_count": 36,
   "metadata": {},
   "outputs": [
    {
     "data": {
      "text/plain": [
       "26"
      ]
     },
     "execution_count": 36,
     "metadata": {},
     "output_type": "execute_result"
    }
   ],
   "source": [
    "abs(60-34)"
   ]
  },
  {
   "cell_type": "code",
   "execution_count": 5,
   "metadata": {},
   "outputs": [
    {
     "name": "stdout",
     "output_type": "stream",
     "text": [
      "3\n"
     ]
    }
   ],
   "source": [
    "s = \"aaa\"\n",
    "\n",
    "for i in s:\n",
    "    a = s.count(i)\n",
    "print(a)"
   ]
  },
  {
   "cell_type": "code",
   "execution_count": null,
   "metadata": {},
   "outputs": [],
   "source": []
  }
 ],
 "metadata": {
  "kernelspec": {
   "display_name": "Python 3",
   "language": "python",
   "name": "python3"
  },
  "language_info": {
   "codemirror_mode": {
    "name": "ipython",
    "version": 3
   },
   "file_extension": ".py",
   "mimetype": "text/x-python",
   "name": "python",
   "nbconvert_exporter": "python",
   "pygments_lexer": "ipython3",
   "version": "3.7.4"
  }
 },
 "nbformat": 4,
 "nbformat_minor": 2
}
