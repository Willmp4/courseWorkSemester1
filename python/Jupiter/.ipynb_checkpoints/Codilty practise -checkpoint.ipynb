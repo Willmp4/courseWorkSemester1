{
 "cells": [
  {
   "cell_type": "code",
   "execution_count": 6,
   "metadata": {},
   "outputs": [],
   "source": [
    "def frogjump(x,y,d):\n",
    "    \n",
    "    if x > y or  d <=0:\n",
    "        print(\"Invlaid Arg\")\n",
    "        return 0 \n",
    "    \n",
    "    so_far = x\n",
    "    count = 0\n",
    "    while so_far < y:\n",
    "        count += 1\n",
    "        so_far += d\n",
    "        \n",
    "    return count\n",
    "        \n",
    "    \n",
    "        \n",
    "    "
   ]
  },
  {
   "cell_type": "code",
   "execution_count": 7,
   "metadata": {},
   "outputs": [
    {
     "name": "stdout",
     "output_type": "stream",
     "text": [
      "Invlaid Arg\n"
     ]
    },
    {
     "data": {
      "text/plain": [
       "0"
      ]
     },
     "execution_count": 7,
     "metadata": {},
     "output_type": "execute_result"
    }
   ],
   "source": [
    "frogjump(10,9,30)"
   ]
  },
  {
   "cell_type": "code",
   "execution_count": 44,
   "metadata": {},
   "outputs": [],
   "source": [
    "A = [1,3,1,4,2,3,5,4]"
   ]
  },
  {
   "cell_type": "code",
   "execution_count": 30,
   "metadata": {},
   "outputs": [],
   "source": [
    "def missElm(A):\n",
    "    A.sort()\n",
    "    \n",
    "    index = 1\n",
    "   \n",
    "    while index == A[index-1]:\n",
    "        index += 1 \n",
    "    return index \n",
    "    "
   ]
  },
  {
   "cell_type": "code",
   "execution_count": 31,
   "metadata": {},
   "outputs": [
    {
     "data": {
      "text/plain": [
       "4"
      ]
     },
     "execution_count": 31,
     "metadata": {},
     "output_type": "execute_result"
    }
   ],
   "source": [
    "missElm(A)"
   ]
  },
  {
   "cell_type": "code",
   "execution_count": 40,
   "metadata": {},
   "outputs": [],
   "source": [
    "def missElm1(A):\n",
    "    A.sort()\n",
    "    \n",
    "    index = 0\n",
    "   \n",
    "    while index + 1 == A[index]:\n",
    "        index += 1 \n",
    "    return index + 1 \n",
    "    "
   ]
  },
  {
   "cell_type": "code",
   "execution_count": 41,
   "metadata": {},
   "outputs": [
    {
     "data": {
      "text/plain": [
       "4"
      ]
     },
     "execution_count": 41,
     "metadata": {},
     "output_type": "execute_result"
    }
   ],
   "source": [
    "missElm1(A)"
   ]
  },
  {
   "cell_type": "code",
   "execution_count": 46,
   "metadata": {},
   "outputs": [],
   "source": [
    "def frogriver(X,A):\n",
    "    dict = {}\n",
    "    for i in range(len(A)):\n",
    "        dict[A[i]] = 1 \n",
    "        if len(dict) == X:\n",
    "            return i \n",
    "    return -1"
   ]
  },
  {
   "cell_type": "code",
   "execution_count": 47,
   "metadata": {},
   "outputs": [
    {
     "data": {
      "text/plain": [
       "6"
      ]
     },
     "execution_count": 47,
     "metadata": {},
     "output_type": "execute_result"
    }
   ],
   "source": [
    "frogriver(5,A)"
   ]
  },
  {
   "cell_type": "code",
   "execution_count": 14,
   "metadata": {},
   "outputs": [],
   "source": [
    "def br_func(N):\n",
    "    br = str(bin(N))[2:]\n",
    "    br_zero_counter = 0\n",
    "    br_group = False \n",
    "    br_highest = 0\n",
    "    \n",
    "    for char in br:\n",
    "        if char == \"1\":\n",
    "            if br_highest < br_zero_counter:\n",
    "                br_highest = br_zero_counter\n",
    "            br_group = True \n",
    "            br_zero_counter = 0\n",
    "        elif br_group:\n",
    "            br_zero_counter += 1\n",
    "    return br_highest\n",
    "    "
   ]
  },
  {
   "cell_type": "code",
   "execution_count": 27,
   "metadata": {},
   "outputs": [
    {
     "data": {
      "text/plain": [
       "4"
      ]
     },
     "execution_count": 27,
     "metadata": {},
     "output_type": "execute_result"
    }
   ],
   "source": [
    "br_func(29210)"
   ]
  },
  {
   "cell_type": "code",
   "execution_count": 18,
   "metadata": {},
   "outputs": [],
   "source": [
    "def solution(N):\n",
    "    br = str(bin(N))[2:]\n",
    "    br_group = False\n",
    "    br_highest = 0\n",
    "    bin_zero_counter = 0\n",
    "    for char in br:\n",
    "        if char == '1':\n",
    "            if br_highest < bin_zero_counter:\n",
    "                br_highest = bin_zero_counter\n",
    "            br_group = True\n",
    "            bin_zero_counter = 0\n",
    "        elif br_group:\n",
    "             bin_zero_counter += 1\n",
    "    return br_highest"
   ]
  },
  {
   "cell_type": "code",
   "execution_count": 26,
   "metadata": {},
   "outputs": [
    {
     "data": {
      "text/plain": [
       "3"
      ]
     },
     "execution_count": 26,
     "metadata": {},
     "output_type": "execute_result"
    }
   ],
   "source": [
    "solution(35)"
   ]
  },
  {
   "cell_type": "code",
   "execution_count": 18,
   "metadata": {},
   "outputs": [],
   "source": [
    "def count_bits(n):\n",
    "    br = str(bin(n))\n",
    "    c = 0\n",
    "    for i in br:\n",
    "        if \"1\" in i:\n",
    "            c += 1\n",
    "    print(c)\n",
    "    print(br)\n",
    "    return c"
   ]
  },
  {
   "cell_type": "code",
   "execution_count": 19,
   "metadata": {},
   "outputs": [
    {
     "name": "stdout",
     "output_type": "stream",
     "text": [
      "5\n",
      "0b10011010010\n"
     ]
    },
    {
     "data": {
      "text/plain": [
       "5"
      ]
     },
     "execution_count": 19,
     "metadata": {},
     "output_type": "execute_result"
    }
   ],
   "source": [
    "count_bits(1234)"
   ]
  },
  {
   "cell_type": "code",
   "execution_count": 3,
   "metadata": {},
   "outputs": [],
   "source": [
    "\n",
    "def solution(A):\n",
    "\n",
    "  # If max value in A is negative, just return 1. \n",
    "    if max(A) <= 0 :\n",
    "        return 1\n",
    "\n",
    "  # Make the sorted list from a set of positive integer numbers only. \n",
    "    A.sort() \n",
    "    sorted_positive_list = list ( set ({x for x in A if x>0}))\n",
    "  \n",
    "  # Find the first case where the index does not match the value.\n",
    "  \n",
    "    for i in (sorted_positive_list):\n",
    " \n",
    "        index = sorted_positive_list.index(i)+1\n",
    "  \n",
    "        if i != index:\n",
    "            return index\n",
    "    return max(sorted_positive_list)+1"
   ]
  },
  {
   "cell_type": "code",
   "execution_count": 6,
   "metadata": {},
   "outputs": [
    {
     "data": {
      "text/plain": [
       "2"
      ]
     },
     "execution_count": 6,
     "metadata": {},
     "output_type": "execute_result"
    }
   ],
   "source": [
    "solution([1,23,5])"
   ]
  },
  {
   "cell_type": "code",
   "execution_count": 8,
   "metadata": {},
   "outputs": [],
   "source": [
    "\n",
    "def solution(A):\n",
    "\n",
    "  # If max value in A is negative, just return 1. \n",
    "    if max(A) <= 0 :\n",
    "        return 1\n",
    "\n",
    "  # Make the sorted list from a set of positive integer numbers only. \n",
    "    A.sort() \n",
    "    sorted_positive_list = list ( set ({x for x in A if x>0}))\n",
    "  \n",
    "  # Find the first case where the index does not match the value.\n",
    "  \n",
    "    for i in (sorted_positive_list):\n",
    " \n",
    "        index = sorted_positive_list.index[i]+1\n",
    "  \n",
    "        if i != index:\n",
    "            return index\n",
    "    return max(sorted_positive_list)+1"
   ]
  },
  {
   "cell_type": "code",
   "execution_count": null,
   "metadata": {},
   "outputs": [],
   "source": []
  }
 ],
 "metadata": {
  "kernelspec": {
   "display_name": "Python 3",
   "language": "python",
   "name": "python3"
  },
  "language_info": {
   "codemirror_mode": {
    "name": "ipython",
    "version": 3
   },
   "file_extension": ".py",
   "mimetype": "text/x-python",
   "name": "python",
   "nbconvert_exporter": "python",
   "pygments_lexer": "ipython3",
   "version": "3.7.4"
  }
 },
 "nbformat": 4,
 "nbformat_minor": 2
}
