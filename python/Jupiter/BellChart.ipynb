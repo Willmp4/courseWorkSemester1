{
 "cells": [
  {
   "cell_type": "code",
   "execution_count": 97,
   "metadata": {},
   "outputs": [
    {
     "data": {
      "image/png": "[encoded data removed]",
      "text/plain": [
       "<Figure size 432x432 with 1 Axes>"
      ]
     },
     "metadata": {},
     "output_type": "display_data"
    }
   ],
   "source": [
    "import numpy as np \n",
    "import random\n",
    "import math\n",
    "import matplotlib.pyplot as plt\n",
    "  \n",
    "# A custom function to calculate\n",
    "# probability distribution function\n",
    "\n",
    "def add_to_list():\n",
    "    random_list = []\n",
    "    for i in range(1,100):\n",
    "        n = random.randint(1,100)\n",
    "        random_list.append(n)\n",
    "    #string = ', '.join([str(item) for item in random_list]) \n",
    "    \n",
    "    return random_list\n",
    "\n",
    "def find_avrg(list):\n",
    "    total = 0\n",
    "    for nums in list:\n",
    "        total +=nums\n",
    "    return math.trunc(total/len(list))\n",
    "\n",
    "def run():\n",
    "    avrg_map ={}\n",
    "    for i in range(1,10000):\n",
    "        x = find_avrg(add_to_list())\n",
    "        if x not in avrg_map:\n",
    "            avrg_map[x] = 1\n",
    "        else:\n",
    "            avrg_map[x] +=1\n",
    "    return avrg_map\n",
    "\n",
    "run()\n",
    "\n",
    "\n",
    "\n",
    "    \n",
    "# To generate an array of x-values\n",
    "i =run()\n",
    "x = i.keys()\n",
    "\n",
    "\n",
    "\n",
    "# To generate an array of\n",
    "# y-values using corresponding x-values\n",
    "y = i.values()\n",
    "  \n",
    "# Plotting the bell-shaped curve\n",
    "plt.style.use('seaborn')\n",
    "plt.figure(figsize = (6, 6))\n",
    "#plt.plot(x, y, color = 'black',\n",
    "        # linestyle = 'dashed')\n",
    "         \n",
    "  \n",
    "plt.scatter( x, y, marker = 'o', s = 25, color = 'red')\n",
    "plt.show()"
   ]
  },
  {
   "cell_type": "code",
   "execution_count": 101,
   "metadata": {},
   "outputs": [
    {
     "name": "stdout",
     "output_type": "stream",
     "text": [
      "[(39, 1), (40, 3), (41, 9), (42, 31), (43, 69), (44, 168), (45, 313), (46, 513), (47, 793), (48, 1106), (49, 1308), (50, 1360), (51, 1261), (52, 1121), (53, 820), (54, 556), (55, 276), (56, 155), (57, 88), (58, 33), (59, 12), (60, 2), (61, 1)]\n",
      "[39, 40, 41, 42, 43, 44, 45, 46, 47, 48, 49, 50, 51, 52, 53, 54, 55, 56, 57, 58, 59, 60, 61]\n",
      "[1, 3, 9, 31, 69, 168, 313, 513, 793, 1106, 1308, 1360, 1261, 1121, 820, 556, 276, 155, 88, 33, 12, 2, 1]\n"
     ]
    },
    {
     "data": {
      "image/png": "[encoded data removed]",
      "text/plain": [
       "<Figure size 432x432 with 1 Axes>"
      ]
     },
     "metadata": {},
     "output_type": "display_data"
    }
   ],
   "source": [
    "import numpy as np \n",
    "import random\n",
    "import math\n",
    "import matplotlib.pyplot as plt\n",
    "  \n",
    "# A custom function to calculate\n",
    "# probability distribution function\n",
    "\n",
    "def add_to_list():\n",
    "    random_list = []\n",
    "    for i in range(1,100):\n",
    "        n = random.randint(1,100)\n",
    "        random_list.append(n)\n",
    "    #string = ', '.join([str(item) for item in random_list]) \n",
    "    \n",
    "    return random_list\n",
    "\n",
    "def find_avrg(list):\n",
    "    total = 0\n",
    "    for nums in list:\n",
    "        total +=nums\n",
    "    return math.trunc(total/len(list))\n",
    "\n",
    "def run():\n",
    "    avrg_map ={}\n",
    "    for i in range(1,10000):\n",
    "        x = find_avrg(add_to_list())\n",
    "        if x not in avrg_map:\n",
    "            avrg_map[x] = 1\n",
    "        else:\n",
    "            avrg_map[x] +=1\n",
    "    return avrg_map\n",
    "\n",
    "run()\n",
    "\n",
    "\n",
    "\n",
    "    \n",
    "# To generate an array of x-values\n",
    "i =run()\n",
    "sort_orders = sorted(i.items())\n",
    "x_vals = []\n",
    "y_vals = []\n",
    "\n",
    "for i in sort_orders:\n",
    "    x_vals.append(i[0])\n",
    "    y_vals.append(i[1])\n",
    "print(sort_orders)\n",
    "x =x_vals\n",
    "y = y_vals\n",
    "  \n",
    "# Plotting the bell-shaped curve\n",
    "plt.style.use('seaborn')\n",
    "plt.figure(figsize = (6, 6))\n",
    "plt.plot(x_vals, y_vals, color = 'black',linestyle = 'dashed')\n",
    "         \n",
    "  \n",
    "plt.scatter( x, y, marker = 'o', s = 25, color = 'red')\n",
    "plt.show()"
   ]
  },
  {
   "cell_type": "code",
   "execution_count": null,
   "metadata": {},
   "outputs": [],
   "source": []
  }
 ],
 "metadata": {
  "kernelspec": {
   "display_name": "Python 3",
   "language": "python",
   "name": "python3"
  },
  "language_info": {
   "codemirror_mode": {
    "name": "ipython",
    "version": 3
   },
   "file_extension": ".py",
   "mimetype": "text/x-python",
   "name": "python",
   "nbconvert_exporter": "python",
   "pygments_lexer": "ipython3",
   "version": "3.7.4"
  }
 },
 "nbformat": 4,
 "nbformat_minor": 2
}
