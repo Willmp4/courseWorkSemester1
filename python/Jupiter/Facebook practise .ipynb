{
 "cells": [
  {
   "cell_type": "code",
   "execution_count": 56,
   "metadata": {},
   "outputs": [],
   "source": [
    "\n",
    "def rotationalCipher(sentence, shift):\n",
    "    alpha_mod = shift % 26\n",
    "    numeric_mod = shift % 10\n",
    "    \n",
    "    lower_alpha =\"abcdefghijklmnopqrstuvwxyzabcdefghijklmnopqrstuvwxyz\"\n",
    "    upper_alpha =\"ABCDEFGHIJKLMNOPQRSTUVWXYZABCDEFGHIJKLMNOPQRSTUVWXYZ\"\n",
    "    \n",
    "    numeric = \"01234567890123456789\"\n",
    "    \n",
    "    result = \"\"\n",
    "    \n",
    "    for char in sentence:\n",
    "        lowercase_index = lower_alpha.find(char)\n",
    "        uppercase_index = upper_alpha.find(char)\n",
    "        numeric_index = numeric.find(char)\n",
    "        \n",
    "        rotated_char = char\n",
    "     \n",
    "        \n",
    "        \n",
    "        if lowercase_index != -1:\n",
    "            \n",
    "            rotated_char = lower_alpha[lowercase_index+alpha_mod]\n",
    "            \n",
    "        elif uppercase_index != -1:\n",
    "            \n",
    "            rotated_char = upper_alpha[uppercase_index+alpha_mod]\n",
    "            \n",
    "        elif numeric_index != -1:\n",
    "            \n",
    "            rotated_char = numeric[numeric_index+numeric_mod]\n",
    "            \n",
    "           \n",
    "        result += rotated_char\n",
    "    \n",
    "    return result\n",
    "    \n",
    "    "
   ]
  },
  {
   "cell_type": "code",
   "execution_count": 64,
   "metadata": {},
   "outputs": [
    {
     "data": {
      "text/plain": [
       "'Htww_345'"
      ]
     },
     "execution_count": 64,
     "metadata": {},
     "output_type": "execute_result"
    }
   ],
   "source": [
    "rotationalCipher(\"Will_234\",11)"
   ]
  },
  {
   "cell_type": "code",
   "execution_count": 104,
   "metadata": {},
   "outputs": [],
   "source": [
    " def are_they_equal(a, b):\n",
    "        return sorted(a) == sorted (b)"
   ]
  },
  {
   "cell_type": "code",
   "execution_count": 109,
   "metadata": {},
   "outputs": [],
   "source": [
    "arr= [2,3,4,5,1]"
   ]
  },
  {
   "cell_type": "code",
   "execution_count": 107,
   "metadata": {},
   "outputs": [
    {
     "data": {
      "text/plain": [
       "False"
      ]
     },
     "execution_count": 107,
     "metadata": {},
     "output_type": "execute_result"
    }
   ],
   "source": [
    "are_they_equal([1,2,3,4],[1, 2, 3, 4])"
   ]
  },
  {
   "cell_type": "code",
   "execution_count": 110,
   "metadata": {},
   "outputs": [],
   "source": [
    "stack = [(arr[0], 0)]"
   ]
  },
  {
   "cell_type": "code",
   "execution_count": 112,
   "metadata": {},
   "outputs": [
    {
     "name": "stdout",
     "output_type": "stream",
     "text": [
      "[(2, 0)]\n"
     ]
    }
   ],
   "source": [
    "print(stack)"
   ]
  },
  {
   "cell_type": "code",
   "execution_count": 145,
   "metadata": {},
   "outputs": [],
   "source": [
    "def calculateWays(N): \n",
    "    x = 0; \n",
    "    \n",
    "      \n",
    "    # Creating an array of size N \n",
    "  \n",
    "  \n",
    "    # The loop is iterated till half the \n",
    "    # length of the array \n",
    "    for i in range(len(N) // 2 + 1): \n",
    "  \n",
    "        # Condition to avoid overwriting \n",
    "        # the middle element for the \n",
    "        # array with even length. \n",
    "        if (len(N) % 2 == 0 and i == len(N) // 2): \n",
    "            break\n",
    "  \n",
    "        # Computing the number of subarrays \n",
    "        x = len(N) * (i + 1) - (i + 1) * i; \n",
    "  \n",
    "        # The ith element from the beginning \n",
    "        # and the ending have the same \n",
    "        # number of possible subarrays \n",
    "        N[i] = x; \n",
    "        N[len(N) - i - 1] = x\n",
    "      \n",
    "    return N"
   ]
  },
  {
   "cell_type": "code",
   "execution_count": 146,
   "metadata": {},
   "outputs": [
    {
     "data": {
      "text/plain": [
       "[4, 6, 6, 4]"
      ]
     },
     "execution_count": 146,
     "metadata": {},
     "output_type": "execute_result"
    }
   ],
   "source": [
    "calculateWays([3, 4, 1, 6])"
   ]
  },
  {
   "cell_type": "code",
   "execution_count": 1,
   "metadata": {},
   "outputs": [],
   "source": [
    "#soulution I found online\n",
    "def count_subarrays(arr):\n",
    "    n = len(arr)\n",
    "    ans = []\n",
    "    L = [0] * n\n",
    "    R = [0] * n\n",
    "  \n",
    "    stack = [(arr[0], 0)]\n",
    "    for i in range(1, n):\n",
    "        while stack and arr[i] > stack[-1][0]:\n",
    "            e = stack.pop()\n",
    "            L[e[1]] = i - e[1]\n",
    "        stack.append((arr[i], i))\n",
    "    \n",
    "    while stack:\n",
    "        e = stack.pop()\n",
    "        L[e[1]] = n - e[1]\n",
    "     \n",
    "    stack = [(arr[n - 1], n - 1)]\n",
    "    \n",
    "    for i in range(n - 2, -1, -1):\n",
    "        while stack and arr[i] > stack[-1][0]:\n",
    "            e = stack.pop()\n",
    "            R[e[1]] = e[1] - i\n",
    "        stack.append((arr[i], i))\n",
    "    \n",
    "    while stack:\n",
    "        e = stack.pop()\n",
    "        R[e[1]] = e[1] + 1\n",
    "        \n",
    "    return [n1 + n2 - 1 for (n1, n2) in zip(L, R)]"
   ]
  },
  {
   "cell_type": "code",
   "execution_count": 2,
   "metadata": {},
   "outputs": [
    {
     "data": {
      "text/plain": [
       "[1, 3, 1, 5, 1]"
      ]
     },
     "execution_count": 2,
     "metadata": {},
     "output_type": "execute_result"
    }
   ],
   "source": [
    "count_subarrays([3, 4, 1, 6, 3])"
   ]
  },
  {
   "cell_type": "code",
   "execution_count": 5,
   "metadata": {},
   "outputs": [],
   "source": [
    "l = [1,2,3]"
   ]
  },
  {
   "cell_type": "code",
   "execution_count": 6,
   "metadata": {},
   "outputs": [
    {
     "ename": "NameError",
     "evalue": "name 'sub_arrays' is not defined",
     "output_type": "error",
     "traceback": [
      "\u001b[1;31m---------------------------------------------------------------------------\u001b[0m",
      "\u001b[1;31mNameError\u001b[0m                                 Traceback (most recent call last)",
      "\u001b[1;32m<ipython-input-6-041ebd0e2a83>\u001b[0m in \u001b[0;36m<module>\u001b[1;34m\u001b[0m\n\u001b[1;32m----> 1\u001b[1;33m \u001b[0msub_arrays\u001b[0m\u001b[1;33m(\u001b[0m\u001b[0ml\u001b[0m\u001b[1;33m)\u001b[0m\u001b[1;33m\u001b[0m\u001b[1;33m\u001b[0m\u001b[0m\n\u001b[0m",
      "\u001b[1;31mNameError\u001b[0m: name 'sub_arrays' is not defined"
     ]
    }
   ],
   "source": [
    "sub_arrays(l)"
   ]
  },
  {
   "cell_type": "code",
   "execution_count": 7,
   "metadata": {},
   "outputs": [],
   "source": [
    "def contiguous_array(l):\n",
    "    z = []\n",
    "    \n",
    "    for i in range(len(l)):\n",
    "        for j in range(i+1,len(l)+1):\n",
    "            sub=l[i:j]\n",
    "            \n",
    "            z.append(sub)\n",
    "           \n",
    "    return(z)"
   ]
  },
  {
   "cell_type": "code",
   "execution_count": 8,
   "metadata": {},
   "outputs": [
    {
     "data": {
      "text/plain": [
       "[[1], [1, 2], [1, 2, 3], [2], [2, 3], [3]]"
      ]
     },
     "execution_count": 8,
     "metadata": {},
     "output_type": "execute_result"
    }
   ],
   "source": [
    "contiguous_array(l)"
   ]
  },
  {
   "cell_type": "code",
   "execution_count": 42,
   "metadata": {},
   "outputs": [],
   "source": [
    "def countSubarrays2(arr):\n",
    "    print (\"starting\")\n",
    "    result = []\n",
    "    \n",
    "\n",
    "    for outer_index, value in enumerate(arr):\n",
    "        count_of_subarrays = 1\n",
    "\n",
    "        #loop forwards from outer index to end\n",
    "        inner_index = outer_index + 1\n",
    "        \n",
    "        while inner_index <len(arr):\n",
    "            if arr[inner_index] > value:\n",
    "                break\n",
    "            count_of_subarrays += 1\n",
    "            inner_index += 1\n",
    "\n",
    "        #loop backwards\n",
    "        inner_index = outer_index - 1\n",
    "        \n",
    "        while inner_index >= 0:\n",
    "            if arr[inner_index] > value:\n",
    "                break\n",
    "            count_of_subarrays += 1\n",
    "            inner_index -= 1\n",
    "        \n",
    "        result.append(count_of_subarrays)\n",
    "   \n",
    "    return result"
   ]
  },
  {
   "cell_type": "code",
   "execution_count": 43,
   "metadata": {},
   "outputs": [
    {
     "name": "stdout",
     "output_type": "stream",
     "text": [
      "starting\n"
     ]
    },
    {
     "data": {
      "text/plain": [
       "[1, 3, 1, 5, 1]"
      ]
     },
     "execution_count": 43,
     "metadata": {},
     "output_type": "execute_result"
    }
   ],
   "source": [
    "countSubarrays2([3,4,1,6,2])"
   ]
  },
  {
   "cell_type": "code",
   "execution_count": 14,
   "metadata": {},
   "outputs": [],
   "source": [
    "def rotationalCipher1(sentence, shift):\n",
    "    alpha_mod = shift % 26\n",
    "    numeric_mod = shift % 10\n",
    "\n",
    "    all_chars = \"abcdefghijklmnopqrstuvwxyzabcdefghijklmnopqrstuvwxyzABCDEFGHIJKLMNOPQRSTUVWXYZABCDEFGHIJKLMNOPQRSTUVWXYZ01234567890123456789\"\n",
    "\n",
    "    index_dict = {\n",
    "      \"a\": 0, \"A\": 52, \"0\": 104,\n",
    "      \"b\": 1, \"B\": 53, \"1\": 105,\n",
    "      \"c\": 2, \"C\": 54, \"2\": 106,\n",
    "      \"d\": 3, \"D\": 55, \"3\": 107,\n",
    "      \"e\": 4, \"E\": 56, \"4\": 108,\n",
    "      \"f\": 5, \"F\": 57, \"5\": 109,\n",
    "      \"g\": 6, \"G\": 58, \"6\": 110,\n",
    "      \"h\": 7, \"H\": 59, \"7\": 111,\n",
    "      \"i\": 8, \"I\": 60, \"8\": 112,\n",
    "      \"j\": 9, \"J\": 61, \"9\": 113,\n",
    "      \"k\": 10, \"K\": 62,\n",
    "      \"l\": 11, \"L\": 63,\n",
    "      \"m\": 12, \"M\": 64,\n",
    "      \"n\": 13, \"N\": 65,\n",
    "      \"o\": 14, \"O\": 66,\n",
    "      \"p\": 15, \"P\": 67,\n",
    "      \"q\": 16, \"Q\": 68,\n",
    "      \"r\": 17, \"R\": 69,\n",
    "      \"s\": 18, \"S\": 70,\n",
    "      \"t\": 19, \"T\": 71,\n",
    "      \"u\": 20, \"U\": 72,\n",
    "      \"v\": 21, \"V\": 73,\n",
    "      \"w\": 22, \"W\": 74,\n",
    "      \"x\": 23, \"X\": 75,\n",
    "      \"y\": 24, \"Y\": 76,\n",
    "      \"z\": 25, \"Z\": 77\n",
    "    }\n",
    "\n",
    "    result = \"\"\n",
    "    not_alpha_numeric = -1\n",
    "\n",
    "    for char in sentence:\n",
    "        index_value = index_dict.get(char, not_alpha_numeric)\n",
    "\n",
    "        if index_value == not_alpha_numeric:\n",
    "            rotated_char = char\n",
    "        elif index_value >= 104: # is numeric\n",
    "            rotated_char = all_chars[index_value+numeric_mod]\n",
    "        else: # is alpha\n",
    "            rotated_char = all_chars[index_value+alpha_mod]\n",
    "\n",
    "        result = result + rotated_char\n",
    "\n",
    "    return result"
   ]
  },
  {
   "cell_type": "code",
   "execution_count": 16,
   "metadata": {},
   "outputs": [
    {
     "data": {
      "text/plain": [
       "'Zloo-780'"
      ]
     },
     "execution_count": 16,
     "metadata": {},
     "output_type": "execute_result"
    }
   ],
   "source": [
    "rotationalCipher1(\"Will-457\",3)"
   ]
  },
  {
   "cell_type": "code",
   "execution_count": 55,
   "metadata": {},
   "outputs": [],
   "source": [
    "\"\"\"Return the first pair of recuring letters in an array\"\"\"\n",
    "#abab -> a\n",
    "\n",
    "def recuring_letters(n):\n",
    "    dic = {}\n",
    "    for i in n:\n",
    "        if i in dic:\n",
    "            return i\n",
    "        dic[i] = 1\n",
    "    return None"
   ]
  },
  {
   "cell_type": "code",
   "execution_count": 60,
   "metadata": {},
   "outputs": [
    {
     "data": {
      "text/plain": [
       "'a'"
      ]
     },
     "execution_count": 60,
     "metadata": {},
     "output_type": "execute_result"
    }
   ],
   "source": [
    "recuring_letters([\"a\",\"b\",\"c\",\"a\"])"
   ]
  },
  {
   "cell_type": "code",
   "execution_count": 1,
   "metadata": {},
   "outputs": [],
   "source": [
    "def getTotalTime(arr):\n",
    "    arr = sorted(arr,reverse=True)\n",
    "    n = len(arr)\n",
    "    if n==1:\n",
    "        return arr[0]\n",
    "  \n",
    "    for i in range(n-1):\n",
    "            print(i)\n",
    "            print(arr)\n",
    "            arr[i+1]=arr[i]+arr[i+1]\n",
    "            print(arr)\n",
    "    return sum(arr[1:]) "
   ]
  },
  {
   "cell_type": "code",
   "execution_count": 2,
   "metadata": {},
   "outputs": [
    {
     "name": "stdout",
     "output_type": "stream",
     "text": [
      "0\n",
      "[4, 3, 2, 1]\n",
      "[4, 7, 2, 1]\n",
      "1\n",
      "[4, 7, 2, 1]\n",
      "[4, 7, 9, 1]\n",
      "2\n",
      "[4, 7, 9, 1]\n",
      "[4, 7, 9, 10]\n"
     ]
    },
    {
     "data": {
      "text/plain": [
       "26"
      ]
     },
     "execution_count": 2,
     "metadata": {},
     "output_type": "execute_result"
    }
   ],
   "source": [
    "getTotalTime([4, 2, 1, 3])"
   ]
  },
  {
   "cell_type": "code",
   "execution_count": 15,
   "metadata": {},
   "outputs": [],
   "source": [
    "def findMaxProduct(n):\n",
    "    s\n",
    "    return sorted(n)\n",
    "\n",
    "    "
   ]
  },
  {
   "cell_type": "code",
   "execution_count": 16,
   "metadata": {},
   "outputs": [
    {
     "data": {
      "text/plain": [
       "[2, 1, 2, 1, 2]"
      ]
     },
     "execution_count": 16,
     "metadata": {},
     "output_type": "execute_result"
    }
   ],
   "source": [
    "[2,1,2,1,2]"
   ]
  },
  {
   "cell_type": "code",
   "execution_count": 17,
   "metadata": {},
   "outputs": [
    {
     "data": {
      "text/plain": [
       "[1, 1, 2, 2, 2]"
      ]
     },
     "execution_count": 17,
     "metadata": {},
     "output_type": "execute_result"
    }
   ],
   "source": [
    "findMaxProduct([2,1,2,1,2])"
   ]
  },
  {
   "cell_type": "code",
   "execution_count": 77,
   "metadata": {},
   "outputs": [],
   "source": [
    "def matching_pairs(s, t):\n",
    "    \n",
    "  # Write your code here\n",
    "    counter = 0\n",
    "    for i in s:\n",
    "        a = s.count(i)\n",
    "    if a == len(s):\n",
    "        return len(s)\n",
    "    if s == t:\n",
    "        return len(s) - 2\n",
    "    else:\n",
    "        for c in range (len(s)):\n",
    "            print(counter)\n",
    "            \n",
    "            if s[c] == t[c]:\n",
    "                counter += 1\n",
    "                continue\n",
    "    if len(s)-2 <= counter:\n",
    "        return counter+2\n",
    "    else:\n",
    "        return counter\n",
    "    "
   ]
  },
  {
   "cell_type": "code",
   "execution_count": 93,
   "metadata": {},
   "outputs": [
    {
     "data": {
      "text/plain": [
       "3"
      ]
     },
     "execution_count": 93,
     "metadata": {},
     "output_type": "execute_result"
    }
   ],
   "source": [
    "matching_pairs(\"aaa\", \"adcb\")"
   ]
  },
  {
   "cell_type": "code",
   "execution_count": 94,
   "metadata": {},
   "outputs": [
    {
     "data": {
      "text/plain": [
       "3"
      ]
     },
     "execution_count": 94,
     "metadata": {},
     "output_type": "execute_result"
    }
   ],
   "source": [
    "matching_pairs(\"sss\", \"ccd\")"
   ]
  },
  {
   "cell_type": "code",
   "execution_count": 92,
   "metadata": {},
   "outputs": [
    {
     "name": "stdout",
     "output_type": "stream",
     "text": [
      "aaa\n",
      "aaa\n",
      "3\n"
     ]
    }
   ],
   "source": [
    "print (matching_swapped_pairs(\"aaa\", \"aaa\"))"
   ]
  },
  {
   "cell_type": "code",
   "execution_count": 87,
   "metadata": {},
   "outputs": [],
   "source": [
    "#o(n^^n) Gordons soultion \n",
    "def matching_swapped_pairs(s,t):\n",
    "    max_count = 0\n",
    "    # loop over all possible swaps and get max\n",
    "    for left_index in range(len(s) - 1):\n",
    "        inc = 1\n",
    "        for right_index in range(left_index+inc, len(s) ):\n",
    "            adapted_s = list(s) # strings are immutable\n",
    "            # swap the two characters\n",
    "            adapted_s [left_index] = s[right_index]\n",
    "            adapted_s [right_index] = s[left_index]\n",
    "            print (left_index, \" \", right_index)\n",
    "            max_count = max(max_count, match_count(adapted_s, t))\n",
    "            inc += 1\n",
    "    return max_count\n",
    "\n",
    "def match_count (s,t):\n",
    "    print (s)\n",
    "    matches = 0\n",
    "    for i in range(len(s)):\n",
    "        if s[i] == t[i]:\n",
    "            matches += 1\n",
    "    return matches\n"
   ]
  },
  {
   "cell_type": "code",
   "execution_count": 90,
   "metadata": {},
   "outputs": [
    {
     "name": "stdout",
     "output_type": "stream",
     "text": [
      "aba\n",
      "aba\n",
      "3\n"
     ]
    }
   ],
   "source": [
    "def matching_swapped_pairs(s,t):\n",
    "    print (s)\n",
    "    print (t)\n",
    "    s_has_at_least_one_duplicate = False\n",
    "    s_set = set()\n",
    "    mismatch_dict = dict()\n",
    "    for i in range(len(s)):\n",
    "        # populate set and dict\n",
    "        if s[i] in s_set:\n",
    "            s_has_at_least_one_duplicate = True\n",
    "        else:\n",
    "            s_set.add(s[i])\n",
    "\n",
    "        if s[i] != t[i]: # they don't match\n",
    "            if s[i] in mismatch_dict:\n",
    "                mismatch_dict.get (s[i]).append(t[i])\n",
    "            else:\n",
    "                mismatch_dict.update ({s[i]:t[i]})\n",
    "\n",
    "    # now have to decide whether a swap can\n",
    "    # add 2 matches\n",
    "    # add 1 match\n",
    "    # no change\n",
    "    # remove 1 match\n",
    "    # remove 2 matches\n",
    "    if len(mismatch_dict) == 0: # everything matches before swap\n",
    "        if s_has_at_least_one_duplicate:\n",
    "            return len(s) # a swap can be achieved with no loss\n",
    "        else:\n",
    "            return len(s) - 2 # the swap will loose 2 matches.\n",
    "    elif len(mismatch_dict) == 1:\n",
    "        print ( \"not worked this out yet\")\n",
    "        return len(s)\n",
    "    else:\n",
    "        print ( \"not worked this out yet\")\n",
    "        return len(s)\n",
    "\n",
    "print (matching_swapped_pairs(\"aba\", \"aba\"))\n"
   ]
  },
  {
   "cell_type": "code",
   "execution_count": 8,
   "metadata": {},
   "outputs": [],
   "source": [
    "def func():\n",
    "    n = int(input(\"enter digit to Square\"))\n",
    "    return n**2"
   ]
  },
  {
   "cell_type": "code",
   "execution_count": 242,
   "metadata": {},
   "outputs": [],
   "source": [
    "def fizz_buzz(a,b,n):\n",
    "    i = range(1,n+1)\n",
    "    \n",
    "    new_i = []\n",
    "    \n",
    "    for num in i:\n",
    "        if num % a == 0 and num % b == 0:\n",
    "            new_i.append(\"FB\")\n",
    "            \n",
    "        elif num % a == 0:\n",
    "            new_i.append(\"F\")\n",
    "                \n",
    "        elif num % b == 0:\n",
    "            \n",
    "            new_i.append(\"B\")\n",
    "        else:\n",
    "            new_i.append(str(num))\n",
    "            \n",
    "        \n",
    "    \n",
    "    return new_i\n",
    "        \n",
    "            \n",
    "           \n",
    "            \n",
    "            \n",
    " \n",
    "        "
   ]
  },
  {
   "cell_type": "code",
   "execution_count": 243,
   "metadata": {},
   "outputs": [
    {
     "data": {
      "text/plain": [
       "['1', 'F', '3', 'F', '5', 'F', 'B', 'F', '9', 'F', '11', 'F', '13', 'FB', '15']"
      ]
     },
     "execution_count": 243,
     "metadata": {},
     "output_type": "execute_result"
    }
   ],
   "source": [
    "fizz_buzz(2,7,15)"
   ]
  },
  {
   "cell_type": "code",
   "execution_count": null,
   "metadata": {},
   "outputs": [],
   "source": []
  },
  {
   "cell_type": "code",
   "execution_count": null,
   "metadata": {},
   "outputs": [],
   "source": []
  }
 ],
 "metadata": {
  "kernelspec": {
   "display_name": "Python 3",
   "language": "python",
   "name": "python3"
  },
  "language_info": {
   "codemirror_mode": {
    "name": "ipython",
    "version": 3
   },
   "file_extension": ".py",
   "mimetype": "text/x-python",
   "name": "python",
   "nbconvert_exporter": "python",
   "pygments_lexer": "ipython3",
   "version": "3.7.4"
  }
 },
 "nbformat": 4,
 "nbformat_minor": 2
}
