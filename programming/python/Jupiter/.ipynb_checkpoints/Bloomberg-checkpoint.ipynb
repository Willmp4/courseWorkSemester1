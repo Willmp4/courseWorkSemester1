{
 "cells": [
  {
   "cell_type": "code",
   "execution_count": 1,
   "metadata": {},
   "outputs": [],
   "source": [
    "def num_ways(n):\n",
    "    if n == 0 or n==1:\n",
    "        return 1 \n",
    "    else:\n",
    "        return num_ways(n-1) + num_ways(n-2)\n",
    "    \n",
    "def num_ways_bottom_up(n):\n",
    "    nums = [None] * (n+1)\n",
    "    nums[0] = 1 \n",
    "    nums[1] = 1\n",
    "    for i in range(2,n+1):\n",
    "        nums[i] = nums[i-1] + nums[i-2]\n",
    "    return nums[n]\n",
    "    \n",
    "    \n",
    "    "
   ]
  },
  {
   "cell_type": "code",
   "execution_count": null,
   "metadata": {},
   "outputs": [],
   "source": [
    "num_ways(400)"
   ]
  },
  {
   "cell_type": "code",
   "execution_count": null,
   "metadata": {},
   "outputs": [],
   "source": []
  },
  {
   "cell_type": "code",
   "execution_count": null,
   "metadata": {},
   "outputs": [],
   "source": []
  }
 ],
 "metadata": {
  "kernelspec": {
   "display_name": "Python 3",
   "language": "python",
   "name": "python3"
  },
  "language_info": {
   "codemirror_mode": {
    "name": "ipython",
    "version": 3
   },
   "file_extension": ".py",
   "mimetype": "text/x-python",
   "name": "python",
   "nbconvert_exporter": "python",
   "pygments_lexer": "ipython3",
   "version": "3.7.4"
  }
 },
 "nbformat": 4,
 "nbformat_minor": 2
}
